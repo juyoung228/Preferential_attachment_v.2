{
 "cells": [
  {
   "cell_type": "code",
   "execution_count": 1,
   "metadata": {
    "collapsed": true
   },
   "outputs": [],
   "source": [
    "\n",
    "# coding: utf-8\n",
    "\n",
    "import os\n",
    "\n",
    "def get_filepaths(directory):\n",
    "    \"\"\"\n",
    "    This function will generate the file names in a directory \n",
    "    tree by walking the tree either top-down or bottom-up. For each \n",
    "    directory in the tree rooted at directory top (including top itself), \n",
    "    it yields a 3-tuple (dirpath, dirnames, filenames).\n",
    "    \"\"\"\n",
    "    file_paths = []  # List which will store all of the full filepaths.\n",
    "\n",
    "    # Walk the tree.\n",
    "    for root, directories, files in os.walk(directory):\n",
    "        for filename in files:\n",
    "            # Join the two strings in order to form the full filepath.\n",
    "            filepath = os.path.join(root, filename)\n",
    "            file_paths.append(filepath)  # Add it to the list.\n",
    "\n",
    "    return file_paths  # Self-explanatory.\n"
   ]
  },
  {
   "cell_type": "code",
   "execution_count": 41,
   "metadata": {
    "collapsed": false
   },
   "outputs": [],
   "source": [
    "import numpy as np\n",
    "\n",
    "def calculate_slope(path):\n",
    "    '''\n",
    "    The format of the input file is like this:\n",
    "    \n",
    "    [0, 1, 2, 3, 4]\n",
    "    [0.9, 1,2, 1.4, 1.56, 2]\n",
    "    '''\n",
    "    f = open(path, 'r')\n",
    "    lines = f.readlines(0)\n",
    "    _index = 0\n",
    "    \n",
    "    a = []\n",
    "    b = []\n",
    "    for line in lines:\n",
    "        _index += 1\n",
    "        if _index == 1:\n",
    "            _a = line.replace(\"[\",\"\").replace(\"]\",\"\").split(\", \")\n",
    "            for __a in _a:\n",
    "                print(path)\n",
    "                a.append(int(__a))\n",
    "                \n",
    "        else:\n",
    "            _b = line.replace(\"[\",\"\").replace(\"]\",\"\").split(\", \")\n",
    "            for __b in _b:\n",
    "                b.append(float(__b))\n",
    "        print(line)\n",
    "    \n",
    "    a = np.asarray(a, dtype=float)\n",
    "    b = np.asarray(b, dtype=float)\n",
    "\n",
    "    logA = np.where(a>0, np.log10(a), 0)\n",
    "    logB = np.where(b>0, np.log10(b), 0)\n",
    "\n",
    "    coefficients = np.polyfit(logA, logB, 1)\n",
    "    polynomial = np.poly1d(coefficients)\n",
    "    return abs(1-polynomial[1])\n",
    "        "
   ]
  },
  {
   "cell_type": "code",
   "execution_count": 3,
   "metadata": {
    "collapsed": false
   },
   "outputs": [],
   "source": [
    "#calculate_slope(\"C:\\\\Users\\\\Administrator\\\\Desktop\\\\2015\\\\9_2015_yeartxt3.txt\")"
   ]
  },
  {
   "cell_type": "code",
   "execution_count": 18,
   "metadata": {
    "collapsed": true
   },
   "outputs": [],
   "source": [
    "def get_lists(year):\n",
    "    lists = []\n",
    "    for i in range(1, 14):\n",
    "        lists.append([])\n",
    "    \n",
    "    for domain in range(1,14):\n",
    "        for year_category in range(1, 11):\n",
    "            path = \"C:\\\\Github\\\\Preferential-attachment\\\\Preferential-attachment\\\\data\\\\170722\\\\\"+str(year)+\"\\\\\"+str(domain)+\"_2015_yeartxt\"+str(year_category)+\".txt\"\n",
    "            f = open(path, 'r')\n",
    "            lists[domain-1].append(calculate_slope(path)) \n",
    "    return lists"
   ]
  },
  {
   "cell_type": "code",
   "execution_count": 16,
   "metadata": {
    "collapsed": false
   },
   "outputs": [],
   "source": [
    "#!pip install seaborn"
   ]
  },
  {
   "cell_type": "code",
   "execution_count": 42,
   "metadata": {
    "collapsed": false
   },
   "outputs": [
    {
     "name": "stdout",
     "output_type": "stream",
     "text": [
      "C:\\Github\\Preferential-attachment\\Preferential-attachment\\data\\170722\\2012\\1_2015_yeartxt1.txt\n"
     ]
    },
    {
     "ename": "ValueError",
     "evalue": "invalid literal for int() with base 10: 'version https://git-lfs.github.com/spec/v1\\n'",
     "output_type": "error",
     "traceback": [
      "\u001b[0;31m---------------------------------------------------------------------------\u001b[0m",
      "\u001b[0;31mValueError\u001b[0m                                Traceback (most recent call last)",
      "\u001b[0;32m<ipython-input-42-56dcfbd38e4f>\u001b[0m in \u001b[0;36m<module>\u001b[0;34m()\u001b[0m\n\u001b[1;32m     10\u001b[0m                  'Humanities', 'Infectious Diseases', 'Math & Physics', 'Health Professionals', 'Social Sciences']\n\u001b[1;32m     11\u001b[0m \u001b[1;33m\u001b[0m\u001b[0m\n\u001b[0;32m---> 12\u001b[0;31m ax = sns.heatmap(get_lists(2012), \n\u001b[0m\u001b[1;32m     13\u001b[0m                  linewidths=0.5, cmap = 'hot')\n\u001b[1;32m     14\u001b[0m \u001b[1;31m#ax = sns.heatmap(get_lists(), center = 1)\u001b[0m\u001b[1;33m\u001b[0m\u001b[1;33m\u001b[0m\u001b[0m\n",
      "\u001b[0;32m<ipython-input-18-b038d6906934>\u001b[0m in \u001b[0;36mget_lists\u001b[0;34m(year)\u001b[0m\n\u001b[1;32m      8\u001b[0m             \u001b[0mpath\u001b[0m \u001b[1;33m=\u001b[0m \u001b[1;34m\"C:\\\\Github\\\\Preferential-attachment\\\\Preferential-attachment\\\\data\\\\170722\\\\\"\u001b[0m\u001b[1;33m+\u001b[0m\u001b[0mstr\u001b[0m\u001b[1;33m(\u001b[0m\u001b[0myear\u001b[0m\u001b[1;33m)\u001b[0m\u001b[1;33m+\u001b[0m\u001b[1;34m\"\\\\\"\u001b[0m\u001b[1;33m+\u001b[0m\u001b[0mstr\u001b[0m\u001b[1;33m(\u001b[0m\u001b[0mdomain\u001b[0m\u001b[1;33m)\u001b[0m\u001b[1;33m+\u001b[0m\u001b[1;34m\"_2015_yeartxt\"\u001b[0m\u001b[1;33m+\u001b[0m\u001b[0mstr\u001b[0m\u001b[1;33m(\u001b[0m\u001b[0myear_category\u001b[0m\u001b[1;33m)\u001b[0m\u001b[1;33m+\u001b[0m\u001b[1;34m\".txt\"\u001b[0m\u001b[1;33m\u001b[0m\u001b[0m\n\u001b[1;32m      9\u001b[0m             \u001b[0mf\u001b[0m \u001b[1;33m=\u001b[0m \u001b[0mopen\u001b[0m\u001b[1;33m(\u001b[0m\u001b[0mpath\u001b[0m\u001b[1;33m,\u001b[0m \u001b[1;34m'r'\u001b[0m\u001b[1;33m)\u001b[0m\u001b[1;33m\u001b[0m\u001b[0m\n\u001b[0;32m---> 10\u001b[0;31m             \u001b[0mlists\u001b[0m\u001b[1;33m[\u001b[0m\u001b[0mdomain\u001b[0m\u001b[1;33m-\u001b[0m\u001b[1;36m1\u001b[0m\u001b[1;33m]\u001b[0m\u001b[1;33m.\u001b[0m\u001b[0mappend\u001b[0m\u001b[1;33m(\u001b[0m\u001b[0mcalculate_slope\u001b[0m\u001b[1;33m(\u001b[0m\u001b[0mpath\u001b[0m\u001b[1;33m)\u001b[0m\u001b[1;33m)\u001b[0m\u001b[1;33m\u001b[0m\u001b[0m\n\u001b[0m\u001b[1;32m     11\u001b[0m     \u001b[1;32mreturn\u001b[0m \u001b[0mlists\u001b[0m\u001b[1;33m\u001b[0m\u001b[0m\n",
      "\u001b[0;32m<ipython-input-41-b62ff6b84cbc>\u001b[0m in \u001b[0;36mcalculate_slope\u001b[0;34m(path)\u001b[0m\n\u001b[1;32m     20\u001b[0m             \u001b[1;32mfor\u001b[0m \u001b[0m__a\u001b[0m \u001b[1;32min\u001b[0m \u001b[0m_a\u001b[0m\u001b[1;33m:\u001b[0m\u001b[1;33m\u001b[0m\u001b[0m\n\u001b[1;32m     21\u001b[0m                 \u001b[0mprint\u001b[0m\u001b[1;33m(\u001b[0m\u001b[0mpath\u001b[0m\u001b[1;33m)\u001b[0m\u001b[1;33m\u001b[0m\u001b[0m\n\u001b[0;32m---> 22\u001b[0;31m                 \u001b[0ma\u001b[0m\u001b[1;33m.\u001b[0m\u001b[0mappend\u001b[0m\u001b[1;33m(\u001b[0m\u001b[0mint\u001b[0m\u001b[1;33m(\u001b[0m\u001b[0m__a\u001b[0m\u001b[1;33m)\u001b[0m\u001b[1;33m)\u001b[0m\u001b[1;33m\u001b[0m\u001b[0m\n\u001b[0m\u001b[1;32m     23\u001b[0m \u001b[1;33m\u001b[0m\u001b[0m\n\u001b[1;32m     24\u001b[0m         \u001b[1;32melse\u001b[0m\u001b[1;33m:\u001b[0m\u001b[1;33m\u001b[0m\u001b[0m\n",
      "\u001b[0;31mValueError\u001b[0m: invalid literal for int() with base 10: 'version https://git-lfs.github.com/spec/v1\\n'"
     ]
    }
   ],
   "source": [
    "import seaborn as sns; sns.set()\n",
    "import matplotlib.pyplot as plt\n",
    "#ax = plt.subplots()\n",
    "#a = np.asarray(get_lists())\n",
    "#where_are_NaNs = np.isnan(a)\n",
    "#a[where_are_NaNs] = 0\n",
    "row_labels = ['10','20','30', '40','50', '60', '70', '80', '90', '100']\n",
    "column_labels = ['Biology','Biotechnology', 'Medical Specialties', 'Chemical, Mechanical, & Civil Engineering', \n",
    "                 'Chemistry', 'Earth Sciences', 'Electrical Engineering & Computer Science', 'Brain Research', \n",
    "                 'Humanities', 'Infectious Diseases', 'Math & Physics', 'Health Professionals', 'Social Sciences']\n",
    "\n",
    "ax = sns.heatmap(get_lists(2012), \n",
    "                 linewidths=0.5, cmap = 'hot')\n",
    "#ax = sns.heatmap(get_lists(), center = 1)\n",
    "ax.set_xticklabels(row_labels, minor=False)\n",
    "ax.set_yticklabels(column_labels, minor=True)\n",
    "plt.yticks(rotation=0) \n",
    "plt.show()\n"
   ]
  },
  {
   "cell_type": "code",
   "execution_count": null,
   "metadata": {
    "collapsed": true
   },
   "outputs": [],
   "source": []
  }
 ],
 "metadata": {
  "anaconda-cloud": {},
  "kernelspec": {
   "display_name": "Python [conda root]",
   "language": "python",
   "name": "conda-root-py"
  },
  "language_info": {
   "codemirror_mode": {
    "name": "ipython",
    "version": 3
   },
   "file_extension": ".py",
   "mimetype": "text/x-python",
   "name": "python",
   "nbconvert_exporter": "python",
   "pygments_lexer": "ipython3",
   "version": "3.5.2"
  }
 },
 "nbformat": 4,
 "nbformat_minor": 2
}
