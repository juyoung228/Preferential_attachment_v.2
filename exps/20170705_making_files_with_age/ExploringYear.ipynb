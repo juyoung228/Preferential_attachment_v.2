{
 "cells": [
  {
   "cell_type": "code",
   "execution_count": 1,
   "metadata": {
    "collapsed": true
   },
   "outputs": [],
   "source": [
    "\n",
    "# coding: utf-8\n",
    "\n",
    "import os\n",
    "\n",
    "def get_filepaths(directory):\n",
    "    \"\"\"\n",
    "    This function will generate the file names in a directory \n",
    "    tree by walking the tree either top-down or bottom-up. For each \n",
    "    directory in the tree rooted at directory top (including top itself), \n",
    "    it yields a 3-tuple (dirpath, dirnames, filenames).\n",
    "    \"\"\"\n",
    "    file_paths = []  # List which will store all of the full filepaths.\n",
    "\n",
    "    # Walk the tree.\n",
    "    for root, directories, files in os.walk(directory):\n",
    "        for filename in files:\n",
    "            # Join the two strings in order to form the full filepath.\n",
    "            filepath = os.path.join(root, filename)\n",
    "            file_paths.append(filepath)  # Add it to the list.\n",
    "\n",
    "    return file_paths  # Self-explanatory.\n",
    "\n"
   ]
  },
  {
   "cell_type": "code",
   "execution_count": 2,
   "metadata": {
    "collapsed": false
   },
   "outputs": [],
   "source": [
    "def make_yearfiles(path):\n",
    "    years = {}\n",
    "    f = open(path.replace(\"\\\\\",\"\\\\\\\\\"), 'r')\n",
    "    lines = f.readlines(0)\n",
    "    for line in lines:\n",
    "        _id = line.split('\\t')[0]\n",
    "        _pub = line.split('\\t')[1].replace('\\n','')\n",
    "        years[_id] = _pub\n",
    "    f.close()\n",
    "    \n",
    "    f2 = open(\"F:\\\\13N_0403\\\\2015\\\\\"+path.split(\"\\\\\")[3].replace(\".\",'_N_n.'),'r')\n",
    "    lines2 = f2.readlines()\n",
    "    f_year = open(\"F:\\\\13N_year\\\\\"+path.split(\"\\\\\")[3].replace(\".\",'_year.'),'w')\n",
    "    for line2 in lines2:\n",
    "        citing = line2.split('\\t')[0]\n",
    "        cited = line2.split('\\t')[1].replace('\\n','')\n",
    "        citing_y = years[citing]\n",
    "        cited_y = years[cited]\n",
    "        f_year.write(line2.replace('\\n','')+\"\\t\"+str(int(citing_y)-int(cited_y))+\"\\n\")\n",
    "\n",
    "    f2.close()\n",
    "    f_year.close()"
   ]
  },
  {
   "cell_type": "code",
   "execution_count": 3,
   "metadata": {
    "collapsed": true
   },
   "outputs": [],
   "source": [
    "# Run the above function and store its results in a variable.   \n",
    "full_file_paths = get_filepaths(\"F:\\\\13_year\\\\2015\")\n",
    "for path in full_file_paths:\n",
    "    make_yearfiles(path)\n"
   ]
  }
 ],
 "metadata": {
  "anaconda-cloud": {},
  "kernelspec": {
   "display_name": "Python [conda root]",
   "language": "python",
   "name": "conda-root-py"
  },
  "language_info": {
   "codemirror_mode": {
    "name": "ipython",
    "version": 3
   },
   "file_extension": ".py",
   "mimetype": "text/x-python",
   "name": "python",
   "nbconvert_exporter": "python",
   "pygments_lexer": "ipython3",
   "version": "3.5.2"
  }
 },
 "nbformat": 4,
 "nbformat_minor": 1
}
