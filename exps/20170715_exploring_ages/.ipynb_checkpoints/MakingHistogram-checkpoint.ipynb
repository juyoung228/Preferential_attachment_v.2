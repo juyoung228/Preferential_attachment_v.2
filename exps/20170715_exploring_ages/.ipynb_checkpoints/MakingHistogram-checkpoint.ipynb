{
 "cells": [
  {
   "cell_type": "code",
   "execution_count": 119,
   "metadata": {
    "collapsed": false
   },
   "outputs": [],
   "source": [
    "import math\n",
    "\n",
    "def get_mean(list_a, list_b):\n",
    "    \"\"\"\n",
    "    This function will generate mean of input data\n",
    "    list_a = [number]\n",
    "    list_b = [frequency of number]\n",
    "    \"\"\"\n",
    "    _mul = [a*b for a, b in zip(list_a,list_b)]\n",
    "    _sum_b = sum(list_b)\n",
    "    return sum(_mul)/_sum_b\n",
    "\n",
    "def get_stdev(mean,list_a, list_b):\n",
    "    \"\"\"\n",
    "    This function will generate standard deviation of input data\n",
    "    The input file should be formatted like this:\n",
    "    [number]\\t[frequncy of the number]\n",
    "    ex)\n",
    "    1       2\n",
    "    2       4\n",
    "    6       8\n",
    "    \"\"\"\n",
    "    _sub = [(a-mean)*(a-mean) for a in list_a]\n",
    "    _mul = [s*b for s,b in zip(_sub, list_b)]\n",
    "    _sum_b = sum(list_b)\n",
    "    _var = sum(_mul)/(_sum_b-1)\n",
    "    return math.sqrt(_var)"
   ]
  },
  {
   "cell_type": "code",
   "execution_count": 120,
   "metadata": {
    "collapsed": false
   },
   "outputs": [],
   "source": [
    "import numpy as np\n",
    "import matplotlib.pyplot as plt\n",
    "import os\n",
    "\n",
    "def make_histogram_png(path):\n",
    "    \"\"\"\n",
    "    This function will generate png file containing histogram of input data\n",
    "    The input file should be formatted like this:\n",
    "    [number]\\t[frequncy of the number]\n",
    "    ex)\n",
    "    1       2\n",
    "    2       4\n",
    "    6       8\n",
    "    \"\"\"\n",
    "    x = []\n",
    "    y = []\n",
    "    #path = 'C:\\\\Github\\\\preferential attachment\\\\data\\\\sample.txt'\n",
    "    f = open(path)\n",
    "    lines = f.readlines()\n",
    "    for line in lines:\n",
    "        x.append(int(line.split(\"\\t\")[0]))\n",
    "        y.append(int(line.split(\"\\t\")[1]))\n",
    "        \n",
    "    _mean = get_mean(x,y)\n",
    "    _stdev= get_stdev(_mean, x, y)\n",
    "    fig = plt.figure()\n",
    "    #fig = plt.figure(figsize = (10,10))\n",
    "    pos = np.arange(len(x))\n",
    "    width = 1.0     # gives histogram aspect to the bar diagram\n",
    "\n",
    "    ax = plt.axes()\n",
    "    #ax.set_xticks(pos + (width / 2))\n",
    "    #ax.set_xticklabels(x)\n",
    "    ax.set_yscale('log')\n",
    "    ax.text(0.95, 0.95, 'mean:'+str(_mean), \n",
    "            verticalalignment = 'top', horizontalalignment='right',\n",
    "           transform=ax.transAxes, color = 'black', fontsize =10)\n",
    "    ax.text(0.95, 0.85, 'sdv:'+str(_stdev), \n",
    "            verticalalignment = 'top', horizontalalignment='right',\n",
    "            transform=ax.transAxes, color = 'black', fontsize =10)\n",
    "\n",
    "    plt.bar(pos, y, width, color='r')\n",
    "    #plt.show()\n",
    "    fig.savefig('./1.png')\n",
    "    plt.close(fig)"
   ]
  },
  {
   "cell_type": "code",
   "execution_count": 118,
   "metadata": {
    "collapsed": false
   },
   "outputs": [],
   "source": [
    "make_histogram_png('F:\\\\13N_year\\\\total_frequency.txt')\n",
    "\n",
    "'''There are some errors in data.\n",
    "   Minus values exist in the distribution. \n",
    "   It is due to the lack of article title disambiguation (maybe)\n",
    "   I modified the original file (total_frequency.txt) by deleting the minus values.\n",
    "   It should be referred in the paper'''"
   ]
  }
 ],
 "metadata": {
  "anaconda-cloud": {},
  "kernelspec": {
   "display_name": "Python [conda root]",
   "language": "python",
   "name": "conda-root-py"
  },
  "language_info": {
   "codemirror_mode": {
    "name": "ipython",
    "version": 3
   },
   "file_extension": ".py",
   "mimetype": "text/x-python",
   "name": "python",
   "nbconvert_exporter": "python",
   "pygments_lexer": "ipython3",
   "version": "3.5.2"
  }
 },
 "nbformat": 4,
 "nbformat_minor": 1
}
